{
 "cells": [
  {
   "cell_type": "markdown",
   "metadata": {},
   "source": [
    "# Spreadsheet Cleaner"
   ]
  },
  {
   "cell_type": "markdown",
   "metadata": {},
   "source": [
    "This script deletes duplicate rows from a spreadsheet file. First you have to specify input and output file:"
   ]
  },
  {
   "cell_type": "code",
   "execution_count": 1,
   "metadata": {
    "collapsed": true
   },
   "outputs": [],
   "source": [
    "input_file = './test.csv'\n",
    "output_file = './test_clean.csv'"
   ]
  },
  {
   "cell_type": "markdown",
   "metadata": {},
   "source": [
    "These files should contain comma-seperated values (CSV format). But you can also specify a different delimiter or quote-character (standard is ',' and '\"')"
   ]
  },
  {
   "cell_type": "code",
   "execution_count": 2,
   "metadata": {
    "collapsed": true
   },
   "outputs": [],
   "source": [
    "delimiter=','\n",
    "quotechar='\"'"
   ]
  },
  {
   "cell_type": "markdown",
   "metadata": {},
   "source": [
    "Now you have to specify which columns should be used to compare rows. A row will be deleted if there is another row later in the file that has identical entries in all the specified columns."
   ]
  },
  {
   "cell_type": "code",
   "execution_count": 63,
   "metadata": {
    "collapsed": true
   },
   "outputs": [],
   "source": [
    "compare_columns=[4,5]"
   ]
  },
  {
   "cell_type": "markdown",
   "metadata": {},
   "source": [
    "Now happens the \"magic\" ;-)"
   ]
  },
  {
   "cell_type": "markdown",
   "metadata": {},
   "source": [
    "*(Technical note: This script is actually very crude since for every row it iterates over all other rows. That is for *n* rows we get *O(n^2)* complexity. First sorting all rows and then deleting rows with identical successor row would result in an improvement to *O(log(n)+n)*. But I was to lazy to implement it that way :-) )*"
   ]
  },
  {
   "cell_type": "code",
   "execution_count": 64,
   "metadata": {
    "collapsed": false
   },
   "outputs": [
    {
     "data": {
      "text/html": [
       "<table width=100%><tr><th></th><th>0</th><th>1</th><th>2</th><th>3</th><th style=\"background-color:#ddf\">4</th><th style=\"background-color:#ddf\">5</th></tr><tr style=\"background-color:#fdd\"><td><b>0</b></td><td style=\"background-color:#fdd\">lsadlkj</td><td style=\"background-color:#fdd\">lj </td><td style=\"background-color:#fdd\">lkj</td><td style=\"background-color:#fdd\">lkj</td><td style=\"background-color:#fdd\">jkjk</td><td style=\"background-color:#fdd\"></td></tr><tr style=\"background-color:#fdd\"><td><b>1</b></td><td style=\"background-color:#fdd\">lkj    </td><td style=\"background-color:#fdd\">kj </td><td style=\"background-color:#fdd\">kj </td><td style=\"background-color:#fdd\">kj </td><td style=\"background-color:#fdd\">kj  </td><td style=\"background-color:#fdd\">asdf</td></tr><tr><td><b>2</b></td><td style=\"background-color:#fff\">       </td><td style=\"background-color:#fff\">lkj</td><td style=\"background-color:#fff\">jkk</td><td style=\"background-color:#fff\">jk </td><td style=\"background-color:#ddf\">jkjk</td><td style=\"background-color:#ddf\"></td></tr><tr><td><b>3</b></td><td style=\"background-color:#fff\">lkj    </td><td style=\"background-color:#fff\">kj </td><td style=\"background-color:#fff\">kj </td><td style=\"background-color:#fff\">kj </td><td style=\"background-color:#ddf\">kj  </td><td style=\"background-color:#ddf\">asdf</td></tr></table>"
      ],
      "text/plain": [
       "<IPython.core.display.HTML object>"
      ]
     },
     "execution_count": 64,
     "metadata": {},
     "output_type": "execute_result"
    }
   ],
   "source": [
    "## read/write csv files\n",
    "import csv\n",
    "from IPython.core.display import HTML\n",
    "#import display\n",
    "\n",
    "## output results as beautiful HTML-table\n",
    "html = ['<table width=100%>']\n",
    "\n",
    "## open input file (readonly)\n",
    "with open(input_file, 'r') as csvfile_in:\n",
    "    spamreader = list(csv.reader(csvfile_in, delimiter=delimiter, quotechar=quotechar))\n",
    "\n",
    "    ## write header for output table\n",
    "    column_count = 0\n",
    "    for row in spamreader:\n",
    "        column_count = max(len(row),column_count)\n",
    "    html.append('<tr><th></th>')\n",
    "    for col_idx in range(column_count):\n",
    "        if col_idx in compare_columns:\n",
    "            html.append('<th style=\"background-color:#ddf\">{0}</th>'.format(col_idx))\n",
    "        else:\n",
    "            html.append('<th>{0}</th>'.format(col_idx))\n",
    "    html.append('</tr>')\n",
    "    \n",
    "    ## open output file\n",
    "    with open(output_file, 'w') as csvfile_out:\n",
    "        spamwriter = csv.writer(csvfile_out, delimiter=delimiter, quotechar=delimiter)\n",
    "        \n",
    "        ## iterate through rows\n",
    "        for idx1,row1 in enumerate(spamreader):\n",
    "            \n",
    "            ## check for duplicates by (again) iterating over row\n",
    "            found_duplicate = False\n",
    "            for idx2,row2 in enumerate(spamreader):\n",
    "                ## skip rows that were already checked including the one currently being checked\n",
    "                if idx2 <= idx1:\n",
    "                    continue\n",
    "                ## check if any of the specified columns is NOT equal\n",
    "                all_equal = True\n",
    "                for col_idx in compare_columns:\n",
    "                    if row1[col_idx] != row2[col_idx]:\n",
    "                        all_equal = False\n",
    "                        break\n",
    "                ## if all specified colums ARE equal the two rows are considered to be a duplicate of each other\n",
    "                if all_equal:\n",
    "                    found_duplicate = True\n",
    "                    break\n",
    "\n",
    "            ## print rows (mark as 'KEEP' or 'DELETE' respectively) and write to output file\n",
    "            if found_duplicate:\n",
    "                background_col = '#fdd'\n",
    "                html.append('<tr style=\"background-color:#fdd\"><td><b>{0}</b></td>'.format(idx1))\n",
    "            else:\n",
    "                html.append('<tr><td><b>{0}</b></td>'.format(idx1))\n",
    "                spamwriter.writerow(row1)\n",
    "            for col_idx,cell in enumerate(row1):\n",
    "                if not found_duplicate:\n",
    "                    if col_idx in compare_columns:\n",
    "                        background_col = '#ddf'\n",
    "                    else:\n",
    "                        background_col = '#fff'\n",
    "                html.append('<td style=\"background-color:{0}\">{1}</td>'.format(background_col,cell))\n",
    "            html.append('</tr>')\n",
    "\n",
    "html.append('</table>')\n",
    "HTML(''.join(html))"
   ]
  }
 ],
 "metadata": {
  "kernelspec": {
   "display_name": "Python 3",
   "language": "python",
   "name": "python3"
  },
  "language_info": {
   "codemirror_mode": {
    "name": "ipython",
    "version": 3
   },
   "file_extension": ".py",
   "mimetype": "text/x-python",
   "name": "python",
   "nbconvert_exporter": "python",
   "pygments_lexer": "ipython3",
   "version": "3.4.3"
  }
 },
 "nbformat": 4,
 "nbformat_minor": 0
}
