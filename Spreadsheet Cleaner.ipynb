{
 "cells": [
  {
   "cell_type": "markdown",
   "metadata": {},
   "source": [
    "# Spreadsheet Cleaner"
   ]
  },
  {
   "cell_type": "markdown",
   "metadata": {},
   "source": [
    "This script deletes duplicate rows from a spreadsheet file. First you have to specify input and output file. The file extension will be used to determine whether it should be treated as CSV (\\*.csv) or Excel (\\*.xlsx) file."
   ]
  },
  {
   "cell_type": "code",
   "execution_count": 25,
   "metadata": {
    "collapsed": true
   },
   "outputs": [],
   "source": [
    "input_file = './test.csv'\n",
    "output_file = './test_clean.csv'"
   ]
  },
  {
   "cell_type": "markdown",
   "metadata": {},
   "source": [
    "These files should contain comma-seperated values (CSV format). But you can also specify a different delimiter or quote-character (standard is ',' and '\"')"
   ]
  },
  {
   "cell_type": "code",
   "execution_count": 34,
   "metadata": {
    "collapsed": true
   },
   "outputs": [],
   "source": [
    "delimiter=','\n",
    "quotechar='\"'"
   ]
  },
  {
   "cell_type": "markdown",
   "metadata": {},
   "source": [
    "Now you have to specify which columns should be used to compare rows. A row will be deleted if there is another row later in the file that has identical entries in all the specified columns. Note 1: the more columns you specify the less rows will be deleted because *all* columns have to match before deleting the respective row. Note 2: if you get an error *'IndexError: list index out of range'* somewhere below this may either be because one of the specified colum indices is too large or because you specified the wrong delimiter above (only relevant for CSV input files) so that all columns are considered as only one."
   ]
  },
  {
   "cell_type": "code",
   "execution_count": 37,
   "metadata": {
    "collapsed": true
   },
   "outputs": [],
   "source": [
    "compare_columns=[1,2]"
   ]
  },
  {
   "cell_type": "markdown",
   "metadata": {},
   "source": [
    "Now happens the \"magic\" ;-)"
   ]
  },
  {
   "cell_type": "markdown",
   "metadata": {},
   "source": [
    "*(Technical note: This script is actually very crude since for every row it iterates over all other rows. That is for *n* rows we get *O(n^2)* complexity. First sorting all rows and then deleting rows with identical successor row would result in an improvement to *O(log(n)+n)*. But speed is not an issue here and I was too lazy to implement it that way :-) )*"
   ]
  },
  {
   "cell_type": "code",
   "execution_count": 41,
   "metadata": {
    "collapsed": false
   },
   "outputs": [
    {
     "name": "stdout",
     "output_type": "stream",
     "text": [
      "Reading CSV file './test.csv'\n",
      "Deleted 1 out of 4 rows\n",
      "Writing CSV file './test_clean.csv'\n"
     ]
    },
    {
     "data": {
      "text/html": [
       "<table width=100%><tr style=\"background-color:#eee\"><th></th><th>0</th><th style=\"background-color:#ddf\">1</th><th style=\"background-color:#ddf\">2</th><th>3</th><th>4</th><th>5</th></tr><tr><td style=\"background-color:#eee\"><b>0</b></td><td style=\"background-color:#fff\">lsadlkj</td><td style=\"background-color:#ddf\">lj </td><td style=\"background-color:#ddf\">lkj</td><td style=\"background-color:#fff\">lkj</td><td style=\"background-color:#fff\">jkjk</td><td style=\"background-color:#fff\"></td></tr><tr style=\"background-color:#fdd\"><td><b>1</b> (duplicate of 3)</td><td style=\"background-color:#fdd\">lkj    </td><td style=\"background-color:#fdd\">kj </td><td style=\"background-color:#fdd\">kj </td><td style=\"background-color:#fdd\">kj </td><td style=\"background-color:#fdd\">kj  </td><td style=\"background-color:#fdd\">asdf</td></tr><tr><td style=\"background-color:#eee\"><b>2</b></td><td style=\"background-color:#fff\">       </td><td style=\"background-color:#ddf\">lkj</td><td style=\"background-color:#ddf\">jkk</td><td style=\"background-color:#fff\">jk </td><td style=\"background-color:#fff\">jkjk</td><td style=\"background-color:#fff\"></td></tr><tr><td style=\"background-color:#eee\"><b>3</b></td><td style=\"background-color:#fff\">lkj    </td><td style=\"background-color:#ddf\">kj </td><td style=\"background-color:#ddf\">kj </td><td style=\"background-color:#fff\">kj </td><td style=\"background-color:#fff\">kj  </td><td style=\"background-color:#fff\">asdf</td></tr><tr style=\"background-color:#eee\"><th></th><th>0</th><th style=\"background-color:#ddf\">1</th><th style=\"background-color:#ddf\">2</th><th>3</th><th>4</th><th>5</th></tr></table>"
      ],
      "text/plain": [
       "<IPython.core.display.HTML object>"
      ]
     },
     "metadata": {},
     "output_type": "display_data"
    }
   ],
   "source": [
    "## read/write csv files\n",
    "import csv\n",
    "## read/write excel files\n",
    "from openpyxl import load_workbook, Workbook\n",
    "## display html\n",
    "from IPython.core.display import HTML, display\n",
    "## exceptions\n",
    "import sys\n",
    "\n",
    "## variables for input, output, html display, and counting deleted rows\n",
    "spamreader = []\n",
    "spamwriter = []\n",
    "html = []\n",
    "rows_deleted = 0\n",
    "\n",
    "## read input file\n",
    "if input_file.endswith('.csv'):\n",
    "    print(\"Reading CSV file '{}'\".format(input_file))\n",
    "    with open(input_file, 'r') as csvfile_in:\n",
    "        spamreader = list(csv.reader(csvfile_in, delimiter=delimiter, quotechar=quotechar))\n",
    "elif input_file.endswith('.xlsx'):\n",
    "    print(\"Reading Excel file '{}'\".format(input_file))\n",
    "    wb = load_workbook(input_file)\n",
    "    for sheet in wb:\n",
    "        print(\"Using sheet '{}'\".format(sheet.title))\n",
    "        spamreader = [[cell.value for cell in row] for row in sheet.rows]\n",
    "        break\n",
    "else:\n",
    "    raise IOError(\"Unknown input format\")\n",
    "\n",
    "## iterate through rows\n",
    "for idx1,row1 in enumerate(spamreader):\n",
    "\n",
    "    ## check for duplicates by (again) iterating through rows\n",
    "    found_duplicate = False\n",
    "    for idx2,row2 in enumerate(spamreader):\n",
    "        ## skip rows that were already checked including the one currently being checked\n",
    "        if idx2 <= idx1:\n",
    "            continue\n",
    "        ## check if any of the specified columns is NOT equal\n",
    "        all_equal = True\n",
    "        for col_idx in compare_columns:\n",
    "            if row1[col_idx] != row2[col_idx]:\n",
    "                all_equal = False\n",
    "                break\n",
    "        ## if all specified colums ARE equal the two rows are considered to be a duplicate of each other\n",
    "        if all_equal:\n",
    "            found_duplicate = True\n",
    "            duplicate_row_idx = idx2\n",
    "            break\n",
    "\n",
    "    ## update counter\n",
    "    if found_duplicate:\n",
    "        rows_deleted += 1\n",
    "\n",
    "    ## add row to html output\n",
    "    if found_duplicate:\n",
    "        background_col = '#fdd'\n",
    "        html.append('<tr style=\"background-color:#fdd\"><td><b>{0}</b> (duplicate of {1})</td>'.format(idx1,duplicate_row_idx))\n",
    "    else:\n",
    "        html.append('<tr><td style=\"background-color:#eee\"><b>{}</b></td>'.format(idx1))\n",
    "        spamwriter.append(row1)\n",
    "    for col_idx,cell in enumerate(row1):\n",
    "        if not found_duplicate:\n",
    "            if col_idx in compare_columns:\n",
    "                background_col = '#ddf'\n",
    "            else:\n",
    "                background_col = '#fff'\n",
    "        html.append('<td style=\"background-color:{0}\">{1}</td>'.format(background_col,cell))\n",
    "    html.append('</tr>')\n",
    "\n",
    "## print number of deleted rows\n",
    "print('Deleted {} out of {} rows'.format(rows_deleted,len(spamreader)))\n",
    "\n",
    "## finish html table by adding header/footer and enclosing in <table> tag\n",
    "head = []\n",
    "head.append('<tr style=\"background-color:#eee\"><th></th>')\n",
    "for col_idx,col in enumerate(spamreader[0]):\n",
    "    if col_idx in compare_columns:\n",
    "        head.append('<th style=\"background-color:#ddf\">{}</th>'.format(col_idx))\n",
    "    else:\n",
    "        head.append('<th>{}</th>'.format(col_idx))\n",
    "head.append('</tr>')\n",
    "html = ['<table width=100%>'] + head + html + head + ['</table>']\n",
    "table = ''.join(html)\n",
    "\n",
    "## write output file\n",
    "if output_file.endswith('.csv'):\n",
    "    print(\"Writing CSV file '{}'\".format(output_file))\n",
    "    with open(output_file, 'w') as csvfile_out:\n",
    "        outwriter = csv.writer(csvfile_out, delimiter=delimiter, quotechar=delimiter)\n",
    "        for row in spamwriter:\n",
    "            outwriter.writerow(row)\n",
    "elif output_file.endswith('.xlsx'):\n",
    "    print(\"Writing Excel file '{}'\".format(output_file))\n",
    "    wb = Workbook()\n",
    "    sheet = wb.active\n",
    "    for row_idx,row in enumerate(spamwriter):\n",
    "        for col_idx,cell in enumerate(row):\n",
    "            ## indices start with 1 not 0\n",
    "            sheet.cell(row=row_idx+1,column=col_idx+1).value = cell\n",
    "    wb.save(output_file)\n",
    "else:\n",
    "    raise IOError(\"Unknown output format\")\n",
    "\n",
    "display(HTML(table))"
   ]
  }
 ],
 "metadata": {
  "kernelspec": {
   "display_name": "Python 3",
   "language": "python",
   "name": "python3"
  },
  "language_info": {
   "codemirror_mode": {
    "name": "ipython",
    "version": 3
   },
   "file_extension": ".py",
   "mimetype": "text/x-python",
   "name": "python",
   "nbconvert_exporter": "python",
   "pygments_lexer": "ipython3",
   "version": "3.4.3"
  }
 },
 "nbformat": 4,
 "nbformat_minor": 0
}
